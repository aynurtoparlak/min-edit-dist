{
  "nbformat": 4,
  "nbformat_minor": 0,
  "metadata": {
    "colab": {
      "name": "CSE654_HW1_Aynur_Toparlak_1950044009.ipynb",
      "provenance": [],
      "collapsed_sections": []
    },
    "kernelspec": {
      "name": "python3",
      "display_name": "Python 3"
    }
  },
  "cells": [
    {
      "cell_type": "markdown",
      "metadata": {
        "id": "RzQS-U3ukjnq"
      },
      "source": [
        "**Dynamic Programming - Minumum Edit Distance**  \n",
        "\n",
        "AYNUR TOPARLAK 1950044009 \n"
      ]
    },
    {
      "cell_type": "code",
      "metadata": {
        "id": "3REPS6Asxhbk"
      },
      "source": [
        "import numpy as np\n",
        "import random\n",
        "import string"
      ],
      "execution_count": null,
      "outputs": []
    },
    {
      "cell_type": "markdown",
      "metadata": {
        "id": "7-GkRacIhwcO"
      },
      "source": [
        "**Dosyadan veri okuma**\n",
        "\n",
        "Dosyadan maximum 15 karakter uzunluğunda rasgele 1000 kelime alınacaktır. "
      ]
    },
    {
      "cell_type": "code",
      "metadata": {
        "id": "ijRBNUxGnq18",
        "colab": {
          "base_uri": "https://localhost:8080/"
        },
        "outputId": "8e4ae03f-5523-4d29-f510-a6d255d8317f"
      },
      "source": [
        "!wget https://raw.githubusercontent.com/ncarkaci/TDKDictionaryCrawler/master/s%C3%B6zl%C3%BCkler/Zemberek_S%C3%B6zl%C3%BCk_Kelime_Listesi.txt\n",
        "!head Zemberek_Sözlük_Kelime_Listesi.txt"
      ],
      "execution_count": null,
      "outputs": [
        {
          "output_type": "stream",
          "text": [
            "--2020-11-16 20:11:04--  https://raw.githubusercontent.com/ncarkaci/TDKDictionaryCrawler/master/s%C3%B6zl%C3%BCkler/Zemberek_S%C3%B6zl%C3%BCk_Kelime_Listesi.txt\n",
            "Resolving raw.githubusercontent.com (raw.githubusercontent.com)... 151.101.0.133, 151.101.64.133, 151.101.128.133, ...\n",
            "Connecting to raw.githubusercontent.com (raw.githubusercontent.com)|151.101.0.133|:443... connected.\n",
            "HTTP request sent, awaiting response... 200 OK\n",
            "Length: 16251854 (15M) [text/plain]\n",
            "Saving to: ‘Zemberek_Sözlük_Kelime_Listesi.txt.3’\n",
            "\n",
            "Zemberek_Sözlük_Kel 100%[===================>]  15.50M  36.5MB/s    in 0.4s    \n",
            "\n",
            "2020-11-16 20:11:05 (36.5 MB/s) - ‘Zemberek_Sözlük_Kelime_Listesi.txt.3’ saved [16251854/16251854]\n",
            "\n",
            "aba\n",
            "abaca\n",
            "abacası\n",
            "abacı\n",
            "abacıdan\n",
            "abacılar\n",
            "abacıların\n",
            "abacılarla\n",
            "abacının\n",
            "abacıya\n"
          ],
          "name": "stdout"
        }
      ]
    },
    {
      "cell_type": "code",
      "metadata": {
        "id": "ZFfNILh6OPXZ"
      },
      "source": [
        "VOCAB_LENGTH=1000\n",
        "\n",
        "def minEditDistance(source, target):\n",
        "  if source == \"\":\n",
        "    return len(target)\n",
        "  if target == \"\":\n",
        "    return len(source)\n",
        "  if source[-1] == target[-1]:\n",
        "    cost = 0\n",
        "  else:\n",
        "    cost = 1\n",
        "       \n",
        "  result = min([minEditDistance(source[:-1], target)+1,\n",
        "             minEditDistance(source, target[:-1])+1, \n",
        "             minEditDistance(source[:-1], target[:-1]) + cost])\n",
        "  return result\n",
        "\n",
        "def loadDoc(filename):\n",
        "  vocab = list()\n",
        "  with open(filename) as fp:\n",
        "    line=fp.readline()\n",
        "    while (line):\n",
        "      if(len(line) <= 15):\n",
        "        vocab.append(line)\n",
        "      line=fp.readline()\n",
        "  return vocab\n",
        "\n",
        "def newRandomList():\n",
        "  listWord=loadDoc(\"Zemberek_Sözlük_Kelime_Listesi.txt\")\n",
        "  vocab=list()\n",
        "  i=0\n",
        "  while(len(vocab)<VOCAB_LENGTH):\n",
        "    vocab.append(listWord[(i*VOCAB_LENGTH)%len(listWord)])\n",
        "    i=i+3\n",
        "  return vocab\n",
        "\n",
        "def findNM(VL):\n",
        "  temp=0\n",
        "  for value in vocab:\n",
        "    if temp < len(value):\n",
        "      temp=len(value)\n",
        "  return temp\n",
        "\n",
        "def printMatrix(M):\n",
        "  for row in M:\n",
        "    print(row)"
      ],
      "execution_count": null,
      "outputs": []
    },
    {
      "cell_type": "markdown",
      "metadata": {
        "id": "nulc8-34n3Fg"
      },
      "source": [
        "Zemberek_Sözlük_Kelime_Listesi.txt kelime dosyasında yer alan kelimelerden rasgele 1000 tanesi seçilmiştir. Farklı kelimeler olması için \"(i*VOCAB_LENGTH)%len(listWord)\" indexine göre dosyadan kelime seçilerek 1000 kelimelelik dizi oluşturulmuştur. "
      ]
    },
    {
      "cell_type": "code",
      "metadata": {
        "id": "EEToDUtT7svi",
        "colab": {
          "base_uri": "https://localhost:8080/"
        },
        "outputId": "4dd81d47-6031-4018-b0cb-3057ddf2cf1d"
      },
      "source": [
        "vocab=loadDoc(\"Zemberek_Sözlük_Kelime_Listesi.txt\")\n",
        "print(len(vocab))\n",
        "\n",
        "print(vocab[2])\n",
        "\n",
        "list2=newRandomList()\n",
        "print(len(list2))\n",
        "print(list2[199])\n"
      ],
      "execution_count": null,
      "outputs": [
        {
          "output_type": "stream",
          "text": [
            "918302\n",
            "abacası\n",
            "\n",
            "1000\n",
            "oynananların\n",
            "\n"
          ],
          "name": "stdout"
        }
      ]
    },
    {
      "cell_type": "markdown",
      "metadata": {
        "id": "88-6U1CciqN8"
      },
      "source": [
        "Oluşturulan 3 boyutlu arrayin bütün elemanlarına -1 atanır. Bu atama 3 boyutlu arrayın hesaplanmayan elemanlarının bulunması için kullanılacaktır."
      ]
    },
    {
      "cell_type": "code",
      "metadata": {
        "id": "HPgArSrn2LOv",
        "colab": {
          "base_uri": "https://localhost:8080/"
        },
        "outputId": "96296a6f-39d2-4a05-ae5a-e1fad66a84da"
      },
      "source": [
        "nm=findNM(list2)\n",
        "\n",
        "print(list2)\n",
        "list2.append(\"biçilmesini\")\n",
        "list2.append(\"biçilimesinde\")\n",
        "\n",
        "calculationMinEdit=np.zeros((len(list2),nm+1,nm+1))\n",
        "\n",
        "for x  in range(len(list2)):\n",
        "  for y in range(nm+1):\n",
        "    for z in range(nm+1):\n",
        "      calculationMinEdit[x][y][z]=-1\n"
      ],
      "execution_count": null,
      "outputs": [
        {
          "output_type": "stream",
          "text": [
            "['aba\\n', 'açamadığın\\n', 'adadaymış\\n', 'affetmekte\\n', 'ağlayanla\\n', 'akılcıyım\\n', 'aksiyonlarda\\n', 'albümlerinizin\\n', 'algın\\n', 'alkışlattırdı\\n', 'ameliyatlarına\\n', 'anımsatmasıydı\\n', 'anlatmayacağız\\n', 'arabeskler\\n', 'arcın\\n', 'artama\\n', 'asılmayla\\n', 'aşığının\\n', 'atanınki\\n', 'atlastaki\\n', 'avrolardan\\n', 'ayılmasını\\n', 'ayrıntılarıyla\\n', 'babamınken\\n', 'bağlantılılar\\n', 'bakılmıyorsa\\n', 'balyozmuş\\n', 'basabiliyoruz\\n', 'başarmışsın\\n', 'başrollerdeydi\\n', 'bayileştikçe\\n', 'beklemediğine\\n', 'belirtiyorduk\\n', 'berhudar\\n', 'beylerbeyinden\\n', 'biçilmesinde\\n', 'bilicininde\\n', 'birçoğuna\\n', 'bitirmezsen\\n', 'boleroya\\n', 'boşluğuysa\\n', 'böbreklerimde\\n', 'bugünündekiler\\n', 'bulunana\\n', 'burslarım\\n', 'bütünününü\\n', 'canlandırdınız\\n', 'ceptekini\\n', 'cilvelerime\\n', 'çabalanmasının\\n', 'çalarımın\\n', 'çapadaki\\n', 'çatladığının\\n', 'çeklerim\\n', 'çevirilerdir\\n', 'çıkarmazsın\\n', 'çırpınırsak\\n', 'çivilenecek\\n', 'çorbada\\n', 'çukurcu\\n', 'dakikalarıyla\\n', 'danışmıyor\\n', 'dayanamıyorsam\\n', 'değerlenmeli\\n', 'delikanlılıkta\\n', 'denetlenerek\\n', 'dergahtakiler\\n', 'detayla\\n', 'dışkıların\\n', 'dilekçeleriyle\\n', 'dinlenmiyoruz\\n', 'diskotekteki\\n', 'doğallığımın\\n', 'dokunmamanın\\n', 'doluluğumuzun\\n', 'doyuverip\\n', 'dönüklüktü\\n', 'drenajla\\n', 'duruşmalarında\\n', 'düellosuydu\\n', 'düşülmesinde\\n', 'düzenlemedi\\n', 'edilebilse\\n', 'eğebilen\\n', 'ekibiydi\\n', 'ekşimekten\\n', 'elvanda\\n', 'enerjilerimiz\\n', 'erimelerinde\\n', 'esinlendiğinin\\n', 'eşitliklerin\\n', 'etmeyecektin\\n', 'evrenselleştim\\n', 'faizcilikte\\n', 'faydasızdan\\n', 'feyizlerini\\n', 'fildişindeki\\n', 'fokurdamayan\\n', 'füzecidir\\n', 'gazetenden\\n', 'geçiril\\n', 'gelirindekine\\n', 'genleştiğini\\n', 'getirile\\n', 'gıcıklamadan\\n', 'girilmemiştir\\n', 'giyiniyorsanız\\n', 'gölcüklüler\\n', 'göremiyorsanız\\n', 'görüşmelisin\\n', 'gözetlemenize\\n', 'gusletmeye\\n', 'gülüştüğüm\\n', 'güvenilinir\\n', 'hahambaşılara\\n', 'halterciler\\n', 'harcanmaktadır\\n', 'haşinliğini\\n', 'hayasız\\n', 'hecelerimi\\n', 'heyecanlı\\n', 'hilaflarında\\n', 'hoplayın\\n', 'hücredekileri\\n', 'ısırtmanın\\n', 'icatla\\n', 'iddialısın\\n', 'ihyacılıktır\\n', 'ilerlettiğimiz\\n', 'ilmühaberleri\\n', 'inandırılmam\\n', 'indirimlerinin\\n', 'ipekçiye\\n', 'istemciler\\n', 'işetemedik\\n', 'iştiyak\\n', 'izanlarına\\n', 'judodur\\n', 'kaçınırlarmış\\n', 'kafatasındaki\\n', 'kalbimizdeki\\n', 'kalkınsak\\n', 'kanaatime\\n', 'kanunsuzlukta\\n', 'kapitalim\\n', 'kararda\\n', 'karidesliler\\n', 'kasığın\\n', 'katılımlarıyla\\n', 'kavradıklarını\\n', 'kaydedildiğim\\n', 'kayseriyi\\n', 'kederlenerek\\n', 'kepçecik\\n', 'kestirilmeyen\\n', 'kılmayanlar\\n', 'kırmaktadırlar\\n', 'kışlıkçı\\n', 'kızdırmaktan\\n', 'kiralamayalım\\n', 'klipsiz\\n', 'kollamadın\\n', 'kondurmam\\n', 'konuşmadığıyla\\n', 'korkarım\\n', 'koşan\\n', 'koyda\\n', 'köpüksüz\\n', 'kreplerinizi\\n', 'kullanmışlardı\\n', 'kurduğunuz\\n', 'kurullarıydı\\n', 'kutlamanın\\n', 'küfredilmiyor\\n', 'kütüphaneniz\\n', 'lenine\\n', 'lokantacılara\\n', 'mahallerimizde\\n', 'maliyecimize\\n', 'markanızda\\n', 'mayolusu\\n', 'meltemken\\n', 'mesafeciydi\\n', 'mevsimi\\n', 'mikroptan\\n', 'mitolojisine\\n', 'muayenehaneni\\n', 'muştuladığım\\n', 'müjdenizi\\n', 'mütevellittir\\n', 'narsisizminin\\n', 'neşirleri\\n', 'nizamların\\n', 'odaklanmamızın\\n', 'okursa\\n', 'olmadığımız\\n', 'onarılarak\\n', 'orkestramızla\\n', 'oturanlarsınız\\n', 'oynananların\\n', 'ödeştirilmiş\\n', 'öğünü\\n', 'ölmüşlerin\\n', 'önlememizin\\n', 'örterlerdi\\n', 'öyleydik\\n', 'özümsenmesi\\n', 'paradoksumuza\\n', 'partisininki\\n', 'paylaşamayan\\n', 'periyotlardaki\\n', 'pistonsu\\n', 'poligonumuza\\n', 'prensiplerinin\\n', 'putlaştırıldı\\n', 'rapçıları\\n', 'rejisördü\\n', 'ribaundlarına\\n', 'rüşvetimizi\\n', 'safhalara\\n', 'sahipliklerin\\n', 'salamıyor\\n', 'sanabilirler\\n', 'saplantıydı\\n', 'sarmasını\\n', 'savaşlarımızla\\n', 'sayıcılığına\\n', 'seçişlere\\n', 'selen\\n', 'sergiledim\\n', 'sessizse\\n', 'sevmediğinse\\n', 'sıfırlardaki\\n', 'sıkmazsın\\n', 'sıvazlasa\\n', 'silindirine\\n', 'sirenlere\\n', 'soğumanıza\\n', 'somonlarımızı\\n', 'sorumlara\\n', 'söktürürlerdi\\n', 'söyleyiverdik\\n', 'strüktürel\\n', 'sunulacağın\\n', 'süpürülen\\n', 'sürümlerine\\n', 'şakayıkların\\n', 'şaşırmamalıyım\\n', 'şerefimize\\n', 'şirretliğe\\n', 'şüphenizi\\n', 'tahriktirler\\n', 'taksilerimize\\n', 'tanımayacaktır\\n', 'tapınaksal\\n', 'tartıştığını\\n', 'taşıyacaksın\\n', 'taytay\\n', 'tekili\\n', 'tembihlemesi\\n', 'tepkisiz\\n', 'tesisatınızın\\n', 'tıkanmalı\\n', 'tinsizliği\\n', 'toparlamasını\\n', 'toslayacağınız\\n', 'tuhaflaşıyor\\n', 'tuttururdum\\n', 'tüketilmesinde\\n', 'ucuzlatıyorlar\\n', 'uğraşmıyorsun\\n', 'umarız\\n', 'ustalarından\\n', 'uyarmışlardı\\n', 'uyusam\\n', 'uzlaşımcı\\n', 'ünlüde\\n', 'üstlenilmeden\\n', 'vadederler\\n', 'varlar\\n', 'vehmim\\n', 'vermiyorken\\n', 'vurdurtuyorlar\\n', 'yağlılığının\\n', 'yakıştırmaları\\n', 'yamayla\\n', 'yansımamışsa\\n', 'yapıştırmıştın\\n', 'yaratamamak\\n', 'yarıştırarak\\n', 'yaşatıldığıyla\\n', 'yatmalarıyla\\n', 'yaymamızı\\n', 'yedekliğinden\\n', 'yengenle\\n', 'yeşermesini\\n', 'yığılmıştın\\n', 'yıpranmışsa\\n', 'yoklamalıyız\\n', 'yorulmayacak\\n', 'yönlenmemiş\\n', 'yutturacak\\n', 'yüreğimizdedir\\n', 'yüzüyor\\n', 'zedelenmiyor\\n', 'ziftlenmesi\\n', 'zumcuyum\\n', 'acizlikleridir\\n', 'açtırayım\\n', 'afetzedelerin\\n', 'ağlaşırsa\\n', 'akciğerleridir\\n', 'aksesuarlardan\\n', 'alaycılar\\n', 'algılanmayacak\\n', 'alkışçılığında\\n', 'amblemsiz\\n', 'anımsa\\n', 'anlatımlardı\\n', 'aptallaşıp\\n', 'arayışla\\n', 'arşınlayabilen\\n', 'asılabilirler\\n', 'aşamayacaktı\\n', 'atamasan\\n', 'atlamamız\\n', 'avlanmayalım\\n', 'ayıklanabilir\\n', 'ayrılmayan\\n', 'aznavur\\n', 'bağlananlardan\\n', 'bakarsınız\\n', 'balonumuzdan\\n', 'barları\\n', 'başarılmasının\\n', 'başmabeyincisi\\n', 'bayılmamışız\\n', 'bekalarının\\n', 'belirsizdi\\n', 'berbatlaşacak\\n', 'beyazlıyor\\n', 'biblosuna\\n', 'bilgilensek\\n', 'binmezken\\n', 'bitiriliyordu\\n', 'boğuşuyordur\\n', 'boşanmayacak\\n', 'bozulmasıyla\\n', 'budalalığıdır\\n', 'bulsak\\n', 'burjuvanı\\n', 'bütünlemeye\\n', 'canavarmışım\\n', 'cepçinin\\n', 'cikletler\\n', 'cüssesiyle\\n', 'çaktırıp\\n', 'çamurludur\\n', 'çatışıldığını\\n', 'çekişiyorsa\\n', 'çetrefiline\\n', 'çıkarıyordur\\n', 'çıplaklıyla\\n', 'çisentisine\\n', 'çoksatarları\\n', 'çözümsülüğü\\n', 'dahilken\\n', 'danışanınız\\n', 'dayama\\n', 'değdirmektir\\n', 'deldiyse\\n', 'denetçilerden\\n', 'derebeyiymiş\\n', 'deşeceksin\\n', 'dezavantajını\\n', 'diktiririz\\n', 'dinlenebildim\\n', 'dirseğinizden\\n', 'dogmacıdır\\n', 'dokunamadığı\\n', 'dolgulu\\n', 'doyup\\n', 'dönmemem\\n', 'dövüştür\\n', 'durumculuk\\n', 'duyururcasına\\n', 'düşmüşlerin\\n', 'düzeltmenizde\\n', 'edercesi\\n', 'egomuzdan\\n', 'ehramlı\\n', 'eksiltmeyerek\\n', 'ellideki\\n', 'endişece\\n', 'ergenliğinden\\n', 'eseften\\n', 'eşindeymiş\\n', 'etmeliyken\\n', 'evliliktedir\\n', 'fabrikatörüdür\\n', 'favorisiyken\\n', 'fetihlerinden\\n', 'fikirleriyle\\n', 'flok\\n', 'futbolcusundur\\n', 'gazaliyi\\n', 'geçinmezse\\n', 'gelinememekle\\n', 'genişleticidir\\n', 'getirdir\\n', 'gezisindedir\\n', 'giremeyerek\\n', 'giyimcisi\\n', 'göğüsleyebilse\\n', 'görecektin\\n', 'görüşecek\\n', 'gözelerin\\n', 'gurlardım\\n', 'gülümsetmekten\\n', 'güvenceni\\n', 'hafifliğindeki\\n', 'halletmekmiş\\n', 'harcamaktansa\\n', 'hastanecilik\\n', 'hayalarımı\\n', 'hazmetmeyiz\\n', 'heveslerine\\n', 'hijyenidir\\n', 'homolog\\n', 'huysuzlanmaz\\n', 'ısırarak\\n', 'ibişleriyse\\n', 'idamlıklarla\\n', 'ihtişamın\\n', 'ilerlemelerden\\n', 'illegal\\n', 'inançlardan\\n', 'indirgemişti\\n', 'intihalin\\n', 'istediğimiz\\n', 'işbirlikçisini\\n', 'işsizliği\\n', 'iyimserinden\\n', 'jigololar\\n', 'kaçıldığı\\n', 'kadükleşiyor\\n', 'kalamatadaki\\n', 'kalkılamamış\\n', 'kamulara\\n', 'kantatlarıyla\\n', 'kapısıdır\\n', 'karambolde\\n', 'karışmıyorsun\\n', 'kasanızdaki\\n', 'katılanlardaki\\n', 'kavgalaşıp\\n', 'kaybolmasaydı\\n', 'kaynatıcım\\n', 'kebapçılar\\n', 'kentçikler\\n', 'kesmiyormuş\\n', 'kılıyormuş\\n', 'kırıtmaya\\n', 'kışkırtılmasa\\n', 'kızartıp\\n', 'kinizmleri\\n', 'klavyelerinde\\n', 'kolejiymiş\\n', 'konakmış\\n', 'konuşamalar\\n', 'kordonların\\n', 'koruyuşunu\\n', 'koyabilse\\n', 'köpeğiyken\\n', 'kreasyondan\\n', 'kullanır\\n', 'kurbanlaştıkça\\n', 'kuruduğumuzu\\n', 'kuşkusudur\\n', 'küçümsenirse\\n', 'küsuratla\\n', 'lejyonerlerini\\n', 'localarda\\n', 'mağdurluğundan\\n', 'makyajından\\n', 'marinamızda\\n', 'mayınına\\n', 'melemeze\\n', 'merkezsizleşen\\n', 'mevcudumuza\\n', 'mihengi\\n', 'misyonerler\\n', 'muahededir\\n', 'musibetimiz\\n', 'mühürledim\\n', 'müteahhitlikte\\n', 'nankörlerimiz\\n', 'nesnelleşiyor\\n', 'niyetindeysen\\n', 'odacıyla\\n', 'okunmalı\\n', 'olgunlarda\\n', 'omzayız\\n', 'organizesi\\n', 'otoyollu\\n', 'oynamamamdı\\n', 'ödenemediğine\\n', 'öğretmemiz\\n', 'ölenlerimiz\\n', 'öngörülerim\\n', 'örnekleyip\\n', 'öykülenmesi\\n', 'özneleşmenin\\n', 'paparadan\\n', 'partidesin\\n', 'paydaysa\\n', 'perdesiz\\n', 'pisilikten\\n', 'poğaçaydı\\n', 'prangasına\\n', 'purolarımızı\\n', 'rampadan\\n', 'rehinde\\n', 'rezervlerinin\\n', 'rustaim\\n', 'sadelikteki\\n', 'sahillerimize\\n', 'saksağanın\\n', 'samanları\\n', 'sapkınken\\n', 'sarkmamalıdır\\n', 'savaşandan\\n', 'sayfanıza\\n', 'seçilmenizin\\n', 'selamlardık\\n', 'serdengeçtiyle\\n', 'seslenmektir\\n', 'seviştiğin\\n', 'sıçrayanlar\\n', 'sıklaşmakta\\n', 'sıvamadan\\n', 'silebilmenize\\n', 'sintinelerin\\n', 'sofulaşma\\n', 'solumdakine\\n', 'sorucu\\n', 'sökelim\\n', 'söylettiniz\\n', 'stoktur\\n', 'sunmamalarını\\n', 'sünnetsizlere\\n', 'sürüldüğümüz\\n', 'şairlerimizdir\\n', 'şaşasından\\n', 'şenlendiren\\n', 'şirazemin\\n', 'şükürcülük\\n', 'tahliyeydi\\n', 'takmana\\n', 'tanıklığımla\\n', 'tansıksı\\n', 'tartışılmamaya\\n', 'taşırmayın\\n', 'tavukluğa\\n', 'tekelimsi\\n', 'teması\\n', 'tepinirseniz\\n', 'tescillemeyi\\n', 'tıkaçlıktan\\n', 'tileri\\n', 'tonmaysteri\\n', 'tortul\\n', 'tufanlara\\n', 'tutturabilmek\\n', 'tükenmişi\\n', 'tüzüğünüz\\n', 'uğraşılmıyor\\n', 'uluslaşmakta\\n', 'usanmaksızın\\n', 'uyarlamasıymış\\n', 'uyumda\\n', 'uzaydadır\\n', 'ünitelerimiz\\n', 'üstelediğimde\\n', 'üzümümü\\n', 'varılmaması\\n', 'vedalaştınız\\n', 'vermemesindeki\\n', 'vuracaksanız\\n', 'yağınızın\\n', 'yakışıklın\\n', 'yalvartıyor\\n', 'yanmadığımız\\n', 'yapışkanı\\n', 'yararlanmayla\\n', 'yarışları\\n', 'yaşarır\\n', 'yatıştığım\\n', 'yayınlayacaktı\\n', 'yazmayacaktır\\n', 'yenebilmek\\n', 'yerlileşerek\\n', 'yettiğinde\\n', 'yılmalar\\n', 'yoğunum\\n', 'yormasına\\n', 'yönetmişliği\\n', 'yutasıymış\\n', 'yükseltseydik\\n', 'yüzsüzlüğüyle\\n', 'zayıfsın\\n', 'zırvalasaydım\\n', 'zorunluluğum\\n', 'acıtılarak\\n', 'açmayacağıdır\\n', 'adresleriyle\\n', 'ağlamamak\\n', 'akamaması\\n', 'aksasa\\n', 'alanındasın\\n', 'algılamakla\\n', 'alıveririz\\n', 'amatörlüğün\\n', 'anılalı\\n', 'anlatıcı\\n', 'apartmanlaşma\\n', 'arattıran\\n', 'arplara\\n', 'asayı\\n', 'aşağıların\\n', 'ataklarla\\n', 'atıvermeye\\n', 'avizelerin\\n', 'aydınlıları\\n', 'ayrılınamaz\\n', 'azlettirildiği\\n', 'bağlamadığına\\n', 'bakamazmış\\n', 'balkondadır\\n', 'barıştıramaz\\n', 'başaramamıştım\\n', 'başlayacaklara\\n', 'bayatinin\\n', 'beğeniyorsam\\n', 'belirlenemezse\\n', 'benzini\\n', 'beyanlarıma\\n', 'bıraktırmayla\\n', 'bileziğimi\\n', 'binin\\n', 'bitirdiğini\\n', 'boğulmazlar\\n', 'boşamazsanız\\n', 'bozucuların\\n', 'broşlarını\\n', 'bulmakla\\n', 'buralılar\\n', 'bürünülmesini\\n', 'camiası\\n', 'cenazesiyle\\n', 'ciğeriyiz\\n', 'cümleciğin\\n', 'çakıştırılıp\\n', 'çalmışlarsa\\n', 'çatanlardan\\n', 'çekinmemek\\n', 'çeşmesiz\\n', 'çıkarıldın\\n', 'çıngırakla\\n', 'çipililer\\n', 'çoğulların\\n', 'çözülüşlerin\\n', 'dağlamaz\\n', 'damlayacak\\n', 'davranmasam\\n', 'defoları\\n', 'dekolte\\n', 'denemeni\\n', 'depresyondayız\\n', 'desteklenmem\\n', 'devşirmekten\\n', 'dikmeyip\\n', 'dinlemeliyiz\\n', 'dirilişi\\n', 'dizisince\\n', 'doktrinime\\n', 'doldurmayanlar\\n', 'doydular\\n', 'dönerciden\\n', 'dövülmüşler\\n', 'durucu\\n', 'duyurma\\n', 'düşmece\\n', 'düzeltebiliyor\\n', 'edememişse\\n', 'efsanevileşmiş\\n', 'eğrini\\n', 'eksil\\n', 'ellediğinizde\\n', 'encamıydı\\n', 'erebilirsiniz\\n', 'erteleyip\\n', 'eşekliğe\\n', 'etkisizlerse\\n', 'evlenmeseler\\n', 'ezmem\\n', 'fatihleri\\n', 'festivaliz\\n', 'figüranlardı\\n', 'fiyort\\n', 'fuhuştaki\\n', 'gayetten\\n', 'geçindiren\\n', 'gelenekle\\n', 'genellikteki\\n', 'gerisinde\\n', 'gezilmiyor\\n', 'girebilecekler\\n', 'giyeceklerim\\n', 'göçücüyüz\\n', 'gördükleriyse\\n', 'görünümümüzden\\n', 'götürüyorsanız\\n', 'gruplaşmaları\\n', 'gülmeyle\\n', 'gürültüsüne\\n', 'hafızıkütübün\\n', 'halledemedik\\n', 'haramdan\\n', 'hastahanesinin\\n', 'havra\\n', 'hazinenden\\n', 'hesaplatın\\n', 'hiçleri\\n', 'hocanın\\n', 'hususiyetimiz\\n', 'ısınanlar\\n', 'iade\\n', 'içtendir\\n', 'ihtilafının\\n', 'ilçesineydi\\n', 'ilkelliğimizin\\n', 'inaldan\\n', 'indiklerinde\\n', 'insülinsiz\\n', 'ispinoz\\n', 'isyanlarından\\n', 'işleyememesine\\n', 'iyileşmelinin\\n', 'jeneratörle\\n', 'kaçaksının\\n', 'kadrandaki\\n', 'kalabilmeleri\\n', 'kalkabilirmiş\\n', 'kampçılıkta\\n', 'kanmazsan\\n', 'kapılırcasına\\n', 'karalamalarımı\\n', 'karışırsanız\\n', 'kartvizitimin\\n', 'kategorisiyle\\n', 'kattıklarından\\n', 'kaybetsin\\n', 'kaynanasal\\n', 'kazıtırken\\n', 'kendircinin\\n', 'keskinliğinde\\n', 'kılığımıza\\n', 'kırılmışım\\n', 'kıssasındaki\\n', 'kızamıkçık\\n', 'kimsesiyle\\n', 'klarnetçiden\\n', 'kolayca\\n', 'komünisttim\\n', 'konumlarındaki\\n', 'kopyacılık\\n', 'korusuz\\n', 'kovulmamalı\\n', 'köleleriyiz\\n', 'kraliçemiz\\n', 'kullandırtmalı\\n', 'kuramcılığı\\n', 'kurtulmayışını\\n', 'kuşburnu\\n', 'küçültmenin\\n', 'küsmezden\\n', 'lazutlarda\\n', 'listesindeler\\n', 'magnezyumcu\\n', 'makinenizde\\n', 'marangozlardan\\n', 'mavisinden\\n', 'mektuplaşsam\\n', 'meridyende\\n', 'metreküpten\\n', 'miadında\\n', 'misallerin\\n', 'motorlarını\\n', 'mumyalara\\n', 'müftülükler\\n', 'müşrikleriyle\\n', 'namlı\\n', 'nerenden\\n', 'nitelerlerse\\n', 'objeye\\n', 'okumazdım\\n', 'olduğu\\n', 'omurgalıya\\n', 'orduevidir\\n', 'otonomiyse\\n', 'oymakbaşlarına\\n', 'ödemeniz\\n', 'öğretilen\\n', 'öldürülselerdi\\n', 'öngördüğünü\\n', 'örgütüz\\n', 'övünmeleriyle\\n', 'özlentili\\n', 'pansumanlarını\\n', 'parmaktadır\\n', 'patronların\\n', 'perçemlidir\\n', 'pipolardan\\n', 'plastiklikten\\n', 'pozisyonun\\n', 'pufa\\n', 'rakibinden\\n', 'reflektörler\\n', 'revolvere\\n', 'ruhsatnamelere\\n', 'saçmaysa\\n', 'sahasınından\\n', 'saklanmayacağı\\n', 'salonluk\\n', 'sapartası\\n', 'sarin\\n', 'sattırıcı\\n', 'saydamlaştığı\\n', 'seçilebilmenin\\n', 'sektörleri\\n', 'seramızı\\n', 'seslendiğime\\n', 'sevişebilir\\n', 'sıçanlardan\\n', 'sıkışmıyor\\n', 'sırtlamakta\\n', 'silahların\\n', 'sinirlenmeme\\n', 'sobelenmeyi\\n', 'solucuyu\\n', 'sormaktayken\\n', 'soyutladığınız\\n', 'söyleşim\\n', 'stilden\\n', 'sunamayacak\\n', 'sündürmeme\\n', 'sürüklediğimin\\n', 'şahnenin\\n', 'şartlardandır\\n', 'şelalelerin\\n', 'şikedir\\n', 'şuursuzluğa\\n', 'tahdidi\\n', 'takkelisi\\n', 'tanemi\\n', 'tankımızı\\n', 'tartılarının\\n', 'taşınmadığının\\n', 'tavsamayan\\n', 'tehlikedeyiz\\n', 'tellaklarımız\\n', 'tepelenene\\n', 'tertiplerinden\\n', 'tezkereci\\n', 'ticarileşir\\n', 'tomarını\\n', 'torbalarıdır\\n', 'triportörle\\n', 'tutmasını\\n', 'tüfeğidir\\n', 'tütünlerinin\\n', 'uğranabilecek\\n', 'ultrasonlarla\\n', 'unvanınızda\\n', 'uyarıldılar\\n', 'uyulacağına\\n', 'uzatmalardan\\n', 'ümitlerimize\\n', 'üslenmeye\\n', 'üzülmelerini\\n', 'vardırdığım\\n', 'vebalim\\n', 'veriştirmesine\\n', 'volkansın\\n', 'yağarsa\\n', 'yakınlığına\\n', 'yalpalanabilir\\n', 'yankısında\\n', 'yapımız\\n', 'yarandık\\n', 'yarısınında\\n', 'yaşanılmasına\\n', 'yatırmadı\\n', 'yayınlamayalım\\n', 'yazlıklarıyla\\n', 'yemişler\\n', 'yerleşmektir\\n', 'yetkisizmişim\\n', 'yılındadır\\n', 'yoğrulmaktaydı\\n', 'yordamsız\\n', 'yönetişimdir\\n', 'yurtseverinin\\n', 'yükselmiştir\\n', 'yüzleşseydik\\n', 'zayıflamamak\\n', 'zıplıyordun\\n', 'zorlayabilir\\n', 'acımasızları\\n', 'açkılandı\\n', 'adlandırmanız\\n', 'ağırlılığı\\n', 'ajansımızı\\n', 'akrobatlar\\n', 'alamamışlar\\n', 'alevlenebilir\\n', 'alışmıştı\\n', 'amaçlanmamış\\n', 'andıydık\\n', 'anlaşsanız\\n', 'antropologla\\n', 'araştırmamak\\n', 'armatörlerinin\\n', 'asalağa\\n', 'aşabilmesidir\\n', 'atabilenleri\\n', 'atışınız\\n', 'avantayla\\n', 'aydınlanmanın\\n', 'ayrılabildiniz\\n', 'azıydı\\n', 'bağışlanırım\\n', 'bakabilirseniz\\n', 'balıkçılarım\\n', 'barışığımdır\\n', 'bastırsalar\\n', 'başlatılmadır\\n', 'battaniyenin\\n', 'beğeneceğe\\n', 'belirdiği\\n', 'benzetim\\n', 'betimlerdi\\n', 'bırakmamışken\\n', 'bileşenlerini\\n', 'binebilseydi\\n', 'bisküviyse\\n', 'boğmada\\n', 'boşaltıldığı\\n', 'bozkırlaştığı\\n', 'bravoymuş\\n', 'buldunuz\\n', 'bunaltmanızı\\n', 'bürüdü\\n', 'cahilmişsin\\n', 'cemevlerimize\\n', 'cibinliklerin\\n', 'cuntalaşmak\\n', 'çakılış\\n', 'çalkalansaymış\\n', 'çarşaflarsanız\\n', 'çekimserler\\n', 'çeribaşısı\\n', 'çıkaramama\\n', 'çıldırması\\n', 'çimentolarımız\\n', 'çoğalmaz\\n', 'çözücülerine\\n', 'dağıtış\\n', 'damıtımını\\n', 'davrandığını\\n', 'defettiler\\n', 'dehleseniz\\n', 'denaet\\n', 'depolanmalıdır\\n', 'destanında\\n', 'devrimi\\n', 'diklendi\\n', 'dingildeyecek\\n', 'diretinceye\\n', 'dizilenler\\n', 'doğuyorsan\\n', 'dolaylıda\\n', 'dosyalanmamış\\n', 'dönememeye\\n', 'dövizlerle\\n', 'durmaktayım\\n', 'duyumsanıyor\\n', 'düşlerimden\\n', 'düzce\\n']\n"
          ],
          "name": "stdout"
        }
      ]
    },
    {
      "cell_type": "markdown",
      "metadata": {
        "id": "nO2P8-r2i5eE"
      },
      "source": [
        "Satır satır hesaplama yapılıyor.\n",
        "\n",
        "Costu 2 olanlar hesaplanırken ilgili satırda sıfır hiç yoksa hesaplama yapmaya devam etmiyor. Böylece costu 2 den fazla olanlar için işlemi yarıda bırakıyor. \n",
        "\n",
        "Hesaplama yaparken ilgili eleman daha önce hesaplandıysa değeri -1 den farklı olur böylelikle tekrar hesaplama yapılmıyor.\n",
        "\n",
        "Kelime bulundu ise son elemana kadar gidilmiş demektir bulunan kelime yeni listeye eklenir.\n",
        "\n",
        "Bulunan kelime listesi uzunluğu beş ise hesaplamaya devam edilmez.\n"
      ]
    },
    {
      "cell_type": "code",
      "metadata": {
        "id": "gEDjnRl55EM_",
        "colab": {
          "base_uri": "https://localhost:8080/"
        },
        "outputId": "e2451267-fe0d-4099-c738-afaf11204d36"
      },
      "source": [
        "source=\"biçilmesinde\" \n",
        "\n",
        "findingTopWords=set()\n",
        "\n",
        "for k in range (0,15):\n",
        "  index=0\n",
        "  for target in list2:\n",
        "    if len(findingTopWords)==5 :\n",
        "      break\n",
        "    if len(target)<len(source):\n",
        "      t1=source\n",
        "      s1=target\n",
        "    else:\n",
        "      t1=target\n",
        "      s1=source\n",
        "    calculationMinEdit[index][:, 0] = list(range(nm + 1))\n",
        "    calculationMinEdit[index][0, :] = list(range(nm + 1))\n",
        "\n",
        "    for i in range(1, len(s1) + 1):\n",
        "      temp=0\n",
        "      for j in range(1, len(t1) + 1):\n",
        "        if calculationMinEdit[index][i, j] == -1:\n",
        "          insertion = calculationMinEdit[index][i, j - 1] + 1\n",
        "          deletion = calculationMinEdit[index][i - 1, j] + 1\n",
        "          match = calculationMinEdit[index][i - 1, j - 1]\n",
        "          if s1[i - 1] != t1[j - 1]:\n",
        "            match += 1  # -- mismatch\n",
        "          calculationMinEdit[index][i, j]=min(insertion, deletion, match) \n",
        "        if calculationMinEdit[index][i, j]==k:\n",
        "          temp=temp+1\n",
        "      if temp==0:\n",
        "        break\n",
        "    index=index+1\n",
        "    if (i==len(s1) and j==len(t1)):\n",
        "      findingTopWords.add(target)\n",
        "print(source)\n",
        "print(findingTopWords)\n"
      ],
      "execution_count": null,
      "outputs": [
        {
          "output_type": "stream",
          "text": [
            "biçilmesinde\n",
            "{'binin\\n', 'aba\\n', 'biçilmesinde\\n', 'biçilimesinde', 'biçilmesini'}\n"
          ],
          "name": "stdout"
        }
      ]
    },
    {
      "cell_type": "code",
      "metadata": {
        "id": "qzWY5eX2e_nO",
        "colab": {
          "base_uri": "https://localhost:8080/"
        },
        "outputId": "dd1d0d83-ad34-4fdb-a97b-702bec4ef744"
      },
      "source": [
        "s=\"biçilmesini\" \n",
        "t=\"biçilmesinde\"\n",
        "print(minEditDistance(s,t))"
      ],
      "execution_count": null,
      "outputs": [
        {
          "output_type": "stream",
          "text": [
            "2\n"
          ],
          "name": "stdout"
        }
      ]
    },
    {
      "cell_type": "markdown",
      "metadata": {
        "id": "YyJA6SBXjjfN"
      },
      "source": [
        "-1 olan ve olmayan bölümler hesaplanarak tablonun doluluğu belirlenir.\n",
        "\n",
        "**Not:** Yapılan işlemlerde %70 ve % 75 arası olduğu görüldü."
      ]
    },
    {
      "cell_type": "code",
      "metadata": {
        "id": "DyCi7HO2cBYN",
        "colab": {
          "base_uri": "https://localhost:8080/"
        },
        "outputId": "8050e838-1574-4c1a-fa9a-f40f767d76a0"
      },
      "source": [
        "arrsize=nm*nm*len(list2)\n",
        "\n",
        "\n",
        "totalArrElement=0\n",
        "sourceLn=len(source)\n",
        "for t in list2:\n",
        "  totalArrElement=totalArrElement+(sourceLn*len(t))\n",
        "\n",
        "notUsed=arrsize-totalArrElement\n",
        "\n",
        "afterExecution=0\n",
        "for x  in range(len(list2)):\n",
        "  for y in range(nm+1):\n",
        "    for z in range(nm+1):\n",
        "      if calculationMinEdit[x][y][z]==-1:\n",
        "        afterExecution+=1\n",
        "\n",
        "print((afterExecution-notUsed)/totalArrElement)"
      ],
      "execution_count": null,
      "outputs": [
        {
          "output_type": "stream",
          "text": [
            "0.7313460656113787\n"
          ],
          "name": "stdout"
        }
      ]
    }
  ]
}